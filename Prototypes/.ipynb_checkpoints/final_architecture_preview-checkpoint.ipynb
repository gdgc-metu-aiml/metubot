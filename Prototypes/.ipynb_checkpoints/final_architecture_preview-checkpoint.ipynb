{
 "cells": [
  {
   "cell_type": "markdown",
   "id": "3bbe1e04-dda6-4d06-bc19-d6f698e0e60f",
   "metadata": {},
   "source": [
    "# Importing libraries"
   ]
  },
  {
   "cell_type": "code",
   "execution_count": 1,
   "id": "42d67899-cadc-48c8-82dc-d6b6b46b2dc3",
   "metadata": {},
   "outputs": [],
   "source": [
    "import numpy as np\n",
    "import pandas as pd\n",
    "import torch\n",
    "from datetime import datetime"
   ]
  },
  {
   "cell_type": "code",
   "execution_count": 2,
   "id": "e53eed38-679c-44c2-9e69-4fe12bdf04c7",
   "metadata": {},
   "outputs": [],
   "source": [
    "from langchain.text_splitter import RecursiveCharacterTextSplitter\n",
    "from langchain.document_loaders import CSVLoader\n",
    "from langchain_huggingface import HuggingFaceEmbeddings\n",
    "from langchain.vectorstores import FAISS\n",
    "from transformers import AutoTokenizer, pipeline\n",
    "from transformers import BertForQuestionAnswering, BertTokenizer\n",
    "from transformers import AutoModelForCausalLM, AutoModel\n",
    "from langchain.chains import RetrievalQA\n",
    "from langchain_ollama import ChatOllama\n",
    "from transformers import pipeline\n",
    "from langchain_huggingface import HuggingFacePipeline\n",
    "from langchain.llms import OpenAI"
   ]
  },
  {
   "cell_type": "markdown",
   "id": "5b797a3f-a53b-4166-9910-3883872b1852",
   "metadata": {},
   "source": [
    "# Getting from csv and splitting"
   ]
  },
  {
   "cell_type": "code",
   "execution_count": 3,
   "id": "01c0da4e-033b-4d8f-b39c-0f4c2bfa91a4",
   "metadata": {
    "scrolled": true
   },
   "outputs": [],
   "source": [
    "csv_file_path = 'clean_example_data.csv'\n",
    "\n",
    "loader = CSVLoader(file_path=csv_file_path)\n",
    "\n",
    "data = loader.load()"
   ]
  },
  {
   "cell_type": "code",
   "execution_count": 4,
   "id": "15f2e4ea-e172-41bb-92d7-537e0eb3c8b1",
   "metadata": {},
   "outputs": [],
   "source": [
    "text_splitter = RecursiveCharacterTextSplitter(\n",
    "    chunk_size=1000,\n",
    "    chunk_overlap=150\n",
    ")\n",
    "\n",
    "docs = text_splitter.split_documents(data)"
   ]
  },
  {
   "cell_type": "code",
   "execution_count": 5,
   "id": "d6b6a5bc-f510-48d6-9106-266cfeddf162",
   "metadata": {},
   "outputs": [
    {
     "data": {
      "text/plain": [
       "Document(metadata={'source': 'clean_example_data.csv', 'row': 0}, page_content='content: ODTÜ 2022-2023 yılı sonbahar dönemi için etkileşimli kayıt sistemi 28 Eylül 2022 tarihinde, saat 09.00’da öğrencilere açılacak. Birer saat arayla, başta 4. sınıflar olmak üzere tüm sınıflara kademeli olarak açılmaya devam edecek. Etkileşimli kayıtlar 30 Eylül, saat 17.00’de sona erecektir. Danışman onayları ise 28 Eylül’de başlayıp 30 Eylül saat 23.59’da sona erecektir. Not: Kayıt programına kampüs dışından erişimlerde VPN bağlantısı şartı bulunmamaktadır.')"
      ]
     },
     "execution_count": 5,
     "metadata": {},
     "output_type": "execute_result"
    }
   ],
   "source": [
    "docs[0]"
   ]
  },
  {
   "cell_type": "markdown",
   "id": "c1549688-be68-4257-9b64-3111b52868ae",
   "metadata": {},
   "source": [
    "# Getting an pre-trained embedding model"
   ]
  },
  {
   "cell_type": "code",
   "execution_count": 6,
   "id": "0cd80930-3380-4fa9-885d-2a3460a3a9de",
   "metadata": {},
   "outputs": [],
   "source": [
    "model_path = \"sentence-transformers/paraphrase-multilingual-MiniLM-L12-v2\"\n",
    "model_kwargs = {'device': 'cuda'}\n",
    "encode_kwargs = {'normalize_embeddings': False}\n",
    "\n",
    "embeddings = HuggingFaceEmbeddings(\n",
    "    model_name = model_path,      \n",
    "    model_kwargs = model_kwargs,  \n",
    "    encode_kwargs = encode_kwargs \n",
    ")"
   ]
  },
  {
   "cell_type": "code",
   "execution_count": 7,
   "id": "a274424b-23c3-4c08-98d9-220d9000223a",
   "metadata": {},
   "outputs": [
    {
     "data": {
      "text/plain": [
       "384"
      ]
     },
     "execution_count": 7,
     "metadata": {},
     "output_type": "execute_result"
    }
   ],
   "source": [
    "text = 'Üreten ekibe hoş geldin'\n",
    "query_result = embeddings.embed_query(text)\n",
    "len(query_result)"
   ]
  },
  {
   "cell_type": "markdown",
   "id": "89bfb86a-370b-42f3-be3f-3d4fd5ab8183",
   "metadata": {},
   "source": [
    "# Creating a vector database and a retriever"
   ]
  },
  {
   "cell_type": "code",
   "execution_count": 8,
   "id": "0fbc75cc-ee4e-417f-abb5-4a26262bfd75",
   "metadata": {},
   "outputs": [],
   "source": [
    "vector_db = FAISS.from_documents(docs, embeddings)"
   ]
  },
  {
   "cell_type": "code",
   "execution_count": 9,
   "id": "ea9ab4aa-3ec7-412d-9283-cd3fa880f144",
   "metadata": {},
   "outputs": [
    {
     "name": "stdin",
     "output_type": "stream",
     "text": [
      "Ask a question (in Turkish):   şenlik ne zaman\n"
     ]
    }
   ],
   "source": [
    "question = input(\"Ask a question (in Turkish):  \")"
   ]
  },
  {
   "cell_type": "code",
   "execution_count": 10,
   "id": "e5392475-b24a-4898-8266-22281d81a032",
   "metadata": {},
   "outputs": [
    {
     "name": "stdout",
     "output_type": "stream",
     "text": [
      "[Document(metadata={'source': 'clean_example_data.csv', 'row': 30}, page_content='content: ODTÜ Bahar Şenliği her yıl farklı tarihlerde fakat ortalama olarak aynı dönemde yapılmaktadır. Genelde 2. vizeler ile final haftası arasında yapılmaya çalışına Uluslararası Bahar Şenlikleri, nisan sonu mayıs başı yapılmaktadır.'), Document(metadata={'source': 'clean_example_data.csv', 'row': 74}, page_content='content: Topluluk oryantasyonları hakkında bilgi almak için buraya tıklayınız. Temel İngilizce bölümüne yeni yerleşen öğrenciler için oryantasyon programı 27 Eylül tarihindegerçekleşecektir. Hazırlık ortamını ve kampüsü tanımanız için katılmanız tavsiye edilir. Lisans programına yeni yerleştirilen öğrenciler için üniversite ve bölümlerin tanıtım programı ise 30 Eylül- 1 Ekim tarihleri arasında gerçekleşecektir. (Daha çok 1. Sınıfların ve hazırlığı atlayanların katıldığı bir program olup herkesin katılımına açıktır.)'), Document(metadata={'source': 'clean_example_data.csv', 'row': 51}, page_content='content: FEEDBACK NASIL GÖRÜNTÜLENİR?')]\n"
     ]
    }
   ],
   "source": [
    "docs = vector_db.similarity_search(query=question,k=3)\n",
    "print(docs)"
   ]
  },
  {
   "cell_type": "markdown",
   "id": "7fad4882-c930-4e5b-b325-db0ebd24fd94",
   "metadata": {},
   "source": [
    "# Llama 3.2 3b"
   ]
  },
  {
   "cell_type": "code",
   "execution_count": 11,
   "id": "dd642d94-cd1d-4a95-a64e-5b3fcb927289",
   "metadata": {},
   "outputs": [],
   "source": [
    "llama_llm = ChatOllama(\n",
    "    model=\"llama3.2:3b\",\n",
    "    temperature=0.1,\n",
    ")"
   ]
  },
  {
   "cell_type": "markdown",
   "id": "70d2d459-102b-40ff-9bc7-1ac6af250c63",
   "metadata": {},
   "source": [
    "# Opus en-tr model"
   ]
  },
  {
   "cell_type": "code",
   "execution_count": 12,
   "id": "61d4b162-0a5d-4489-a48b-04670005b7c3",
   "metadata": {},
   "outputs": [],
   "source": [
    "en_tr_pipe = pipeline(\"translation\", model=\"Helsinki-NLP/opus-mt-tc-big-en-tr\", device=\"cuda\")"
   ]
  },
  {
   "cell_type": "markdown",
   "id": "3be538c1-e9bc-4830-9f54-c4d53ccc2f0c",
   "metadata": {},
   "source": [
    "# Creating and calculating the speed of the chain"
   ]
  },
  {
   "cell_type": "code",
   "execution_count": 13,
   "id": "14712620-b654-4d71-96bf-505194e7abe9",
   "metadata": {},
   "outputs": [
    {
     "name": "stdin",
     "output_type": "stream",
     "text": [
      "Ask a question (in Turkish):   şenlik ne zaman\n"
     ]
    }
   ],
   "source": [
    "question = input(\"Ask a question (in Turkish):  \")"
   ]
  },
  {
   "cell_type": "code",
   "execution_count": 14,
   "id": "6e1b4984-521f-4ce1-8217-82fd8f5de2b9",
   "metadata": {},
   "outputs": [],
   "source": [
    "pre_prompt = \"Answer the question in English using the information above. Do not add unnecessary information.\""
   ]
  },
  {
   "cell_type": "code",
   "execution_count": 15,
   "id": "f13329b4-1a0a-4662-b003-da6a1e639194",
   "metadata": {},
   "outputs": [
    {
     "name": "stdout",
     "output_type": "stream",
     "text": [
      "ODTÜ Bahar Şenliği tipik olarak Nisan-Mayıs ayları arasında yapılır ve kesin tarihleri yıldan yıla değişir.\n"
     ]
    }
   ],
   "source": [
    "time_0 = datetime.now()\n",
    "\n",
    "docs = vector_db.similarity_search(query=question,k=3)\n",
    "prompt = f\"{docs[0].page_content}\\n{docs[1].page_content}\\n{docs[2].page_content}\\n{question}\\n{pre_prompt}\"\n",
    "\n",
    "time_1 = datetime.now()\n",
    "\n",
    "en_answer = llama_llm.invoke(prompt).content\n",
    "\n",
    "time_2 = datetime.now()\n",
    "\n",
    "tr_answer = en_tr_pipe(en_answer)[0][\"translation_text\"]\n",
    "\n",
    "time_3 = datetime.now()\n",
    "\n",
    "print(tr_answer)"
   ]
  },
  {
   "cell_type": "code",
   "execution_count": 16,
   "id": "5d48faad-59b7-4b41-9001-b80872db6a97",
   "metadata": {},
   "outputs": [
    {
     "name": "stdout",
     "output_type": "stream",
     "text": [
      "The ODTÜ Bahar Şenliği is typically held between April and May, with exact dates varying from year to year.\n"
     ]
    }
   ],
   "source": [
    "print(en_answer)"
   ]
  },
  {
   "cell_type": "code",
   "execution_count": 17,
   "id": "08a8d47d-170c-45b5-a5d5-f0dd80d0bb6e",
   "metadata": {},
   "outputs": [
    {
     "name": "stdout",
     "output_type": "stream",
     "text": [
      "Similarity search + prompt creating time: 0:00:00.006180\n",
      "Llama answer generation time:             0:00:00.474338\n",
      "Opus en-tr translation time:              0:00:00.436539\n",
      "Overall execution time:                   0:00:00.917057\n"
     ]
    }
   ],
   "source": [
    "prompt_creating_time = time_1 - time_0\n",
    "llama_gen_time = time_2 - time_1\n",
    "opus_translate_time = time_3 - time_2\n",
    "overall_time = time_3 - time_0\n",
    "\n",
    "print(f\"Similarity search + prompt creating time: {prompt_creating_time}\\nLlama answer generation time:             {llama_gen_time}\\nOpus en-tr translation time:              {opus_translate_time}\\nOverall execution time:                   {overall_time}\")"
   ]
  }
 ],
 "metadata": {
  "kernelspec": {
   "display_name": "metubot",
   "language": "python",
   "name": "metubot"
  },
  "language_info": {
   "codemirror_mode": {
    "name": "ipython",
    "version": 3
   },
   "file_extension": ".py",
   "mimetype": "text/x-python",
   "name": "python",
   "nbconvert_exporter": "python",
   "pygments_lexer": "ipython3",
   "version": "3.10.12"
  }
 },
 "nbformat": 4,
 "nbformat_minor": 5
}
