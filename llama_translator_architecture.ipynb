{
 "cells": [
  {
   "cell_type": "markdown",
   "id": "3bbe1e04-dda6-4d06-bc19-d6f698e0e60f",
   "metadata": {},
   "source": [
    "# Importing libraries"
   ]
  },
  {
   "cell_type": "code",
   "execution_count": 1,
   "id": "42d67899-cadc-48c8-82dc-d6b6b46b2dc3",
   "metadata": {},
   "outputs": [],
   "source": [
    "import numpy as np\n",
    "import pandas as pd\n",
    "import torch\n",
    "from datetime import datetime"
   ]
  },
  {
   "cell_type": "code",
   "execution_count": 20,
   "id": "e53eed38-679c-44c2-9e69-4fe12bdf04c7",
   "metadata": {},
   "outputs": [],
   "source": [
    "from langchain.text_splitter import RecursiveCharacterTextSplitter\n",
    "from langchain.document_loaders import CSVLoader\n",
    "from langchain_huggingface import HuggingFaceEmbeddings\n",
    "from langchain.vectorstores import FAISS\n",
    "from transformers import AutoTokenizer, pipeline\n",
    "from transformers import BertForQuestionAnswering, BertTokenizer\n",
    "from transformers import AutoModelForCausalLM, AutoModel\n",
    "from langchain.chains import RetrievalQA\n",
    "from langchain_ollama import ChatOllama\n",
    "from transformers import pipeline\n",
    "from langchain_huggingface import HuggingFacePipeline\n",
    "from langchain.llms import OpenAI"
   ]
  },
  {
   "cell_type": "markdown",
   "id": "6c27ebe7-766b-41b1-9116-609cbdbe7ab0",
   "metadata": {},
   "source": [
    "# Initial Architecture"
   ]
  },
  {
   "cell_type": "markdown",
   "id": "5b797a3f-a53b-4166-9910-3883872b1852",
   "metadata": {},
   "source": [
    "## Getting from csv and splitting"
   ]
  },
  {
   "cell_type": "code",
   "execution_count": 21,
   "id": "01c0da4e-033b-4d8f-b39c-0f4c2bfa91a4",
   "metadata": {
    "scrolled": true
   },
   "outputs": [],
   "source": [
    "csv_file_path = 'example_data.csv'\n",
    "\n",
    "loader = CSVLoader(file_path=csv_file_path)\n",
    "\n",
    "data = loader.load()"
   ]
  },
  {
   "cell_type": "code",
   "execution_count": 22,
   "id": "15f2e4ea-e172-41bb-92d7-537e0eb3c8b1",
   "metadata": {},
   "outputs": [],
   "source": [
    "text_splitter = RecursiveCharacterTextSplitter(\n",
    "    chunk_size=1000,\n",
    "    chunk_overlap=150\n",
    ")\n",
    "\n",
    "docs = text_splitter.split_documents(data)"
   ]
  },
  {
   "cell_type": "code",
   "execution_count": 23,
   "id": "d6b6a5bc-f510-48d6-9106-266cfeddf162",
   "metadata": {},
   "outputs": [
    {
     "data": {
      "text/plain": [
       "Document(metadata={'source': 'example_data.csv', 'row': 0}, page_content=': \\ncategory: Eğitim 101\\nmain_title: Ders Seçimi\\nsub_title: main text\\ncontent: ODTÜ 2022-2023 yılı sonbahar dönemi için etkileşimli kayıt sistemi 28 Eylül 2022 tarihinde, saat 09.00’da öğrencilere açılacak. Birer saat arayla, başta 4. sınıflar olmak üzere tüm sınıflara kademeli olarak açılmaya devam edecek. Etkileşimli kayıtlar 30 Eylül, saat 17.00’de sona erecektir. Danışman onayları ise 28 Eylül’de başlayıp 30 Eylül saat 23.59’da sona erecektir. Not: Kayıt programına kampüs dışından erişimlerde VPN bağlantısı şartı bulunmamaktadır.')"
      ]
     },
     "execution_count": 23,
     "metadata": {},
     "output_type": "execute_result"
    }
   ],
   "source": [
    "docs[0]"
   ]
  },
  {
   "cell_type": "markdown",
   "id": "c1549688-be68-4257-9b64-3111b52868ae",
   "metadata": {},
   "source": [
    "## Getting an pre-trained embedding model"
   ]
  },
  {
   "cell_type": "code",
   "execution_count": 24,
   "id": "0cd80930-3380-4fa9-885d-2a3460a3a9de",
   "metadata": {},
   "outputs": [],
   "source": [
    "model_path = \"sentence-transformers/paraphrase-multilingual-MiniLM-L12-v2\"\n",
    "model_kwargs = {'device': 'cuda'}\n",
    "encode_kwargs = {'normalize_embeddings': False}\n",
    "\n",
    "embeddings = HuggingFaceEmbeddings(\n",
    "    model_name = model_path,      \n",
    "    model_kwargs = model_kwargs,  \n",
    "    encode_kwargs = encode_kwargs \n",
    ")"
   ]
  },
  {
   "cell_type": "code",
   "execution_count": 25,
   "id": "a274424b-23c3-4c08-98d9-220d9000223a",
   "metadata": {},
   "outputs": [
    {
     "data": {
      "text/plain": [
       "384"
      ]
     },
     "execution_count": 25,
     "metadata": {},
     "output_type": "execute_result"
    }
   ],
   "source": [
    "text = 'Üreten ekibe hoş geldin'\n",
    "query_result = embeddings.embed_query(text)\n",
    "len(query_result)"
   ]
  },
  {
   "cell_type": "markdown",
   "id": "89bfb86a-370b-42f3-be3f-3d4fd5ab8183",
   "metadata": {},
   "source": [
    "## Creating a vector database"
   ]
  },
  {
   "cell_type": "code",
   "execution_count": 26,
   "id": "0fbc75cc-ee4e-417f-abb5-4a26262bfd75",
   "metadata": {},
   "outputs": [],
   "source": [
    "vector_db = FAISS.from_documents(docs, embeddings)"
   ]
  },
  {
   "cell_type": "code",
   "execution_count": 27,
   "id": "e78c612e-5044-4b0c-ae06-adb772a8a009",
   "metadata": {},
   "outputs": [
    {
     "name": "stdout",
     "output_type": "stream",
     "text": [
      "page_content=': \n",
      "category: Deneme\n",
      "main_title: Topluluklar\n",
      "sub_title: Topluluklar\n",
      "content: metubot projesi GDGC METU AI/ML Takımı Üreten Ekibi tarafından geliştirilmektedir.' metadata={'source': 'example_data.csv', 'row': 102}\n"
     ]
    }
   ],
   "source": [
    "question = \"metubot kim tarafından geliştirilmektedir\"\n",
    "searchDocs = vector_db.similarity_search(question)\n",
    "print(searchDocs[0])"
   ]
  },
  {
   "cell_type": "markdown",
   "id": "ee7ac23e-d69e-4234-ae9b-9cb786ddeda5",
   "metadata": {},
   "source": [
    "## Creating a retriever"
   ]
  },
  {
   "cell_type": "code",
   "execution_count": 28,
   "id": "882d8352-2fd4-43cf-b171-2af71a4d56b5",
   "metadata": {},
   "outputs": [
    {
     "name": "stdout",
     "output_type": "stream",
     "text": [
      "page_content=': \n",
      "category: Deneme\n",
      "main_title: Topluluklar\n",
      "sub_title: Topluluklar\n",
      "content: metubot projesi GDGC METU AI/ML Takımı Üreten Ekibi tarafından geliştirilmektedir.' metadata={'source': 'example_data.csv', 'row': 102}\n"
     ]
    }
   ],
   "source": [
    "retriever = vector_db.as_retriever()\n",
    "\n",
    "docs = retriever.invoke(\"metubot kim tarafından geliştirilmektedir\")\n",
    "print(docs[0])"
   ]
  },
  {
   "cell_type": "markdown",
   "id": "7fad4882-c930-4e5b-b325-db0ebd24fd94",
   "metadata": {},
   "source": [
    "# Llama 3.2 3b"
   ]
  },
  {
   "cell_type": "code",
   "execution_count": 29,
   "id": "dd642d94-cd1d-4a95-a64e-5b3fcb927289",
   "metadata": {},
   "outputs": [],
   "source": [
    "llama_llm = ChatOllama(\n",
    "    model=\"llama3.2:3b\",\n",
    "    temperature=0.1,\n",
    ")"
   ]
  },
  {
   "cell_type": "code",
   "execution_count": 30,
   "id": "887de0b1-1287-406f-aa45-6cb12c054673",
   "metadata": {
    "scrolled": true
   },
   "outputs": [],
   "source": [
    "llama_qa = RetrievalQA.from_chain_type(\n",
    "    llm=llama_llm,\n",
    "    chain_type=\"stuff\",\n",
    "    retriever=retriever\n",
    ")"
   ]
  },
  {
   "cell_type": "code",
   "execution_count": 31,
   "id": "50ee13af-38e5-4d23-b1a2-20c8ce1ac88e",
   "metadata": {},
   "outputs": [
    {
     "name": "stdout",
     "output_type": "stream",
     "text": [
      "page_content=': \n",
      "category: Deneme\n",
      "main_title: Topluluklar\n",
      "sub_title: Topluluklar\n",
      "content: metubot projesi GDGC METU AI/ML Takımı Üreten Ekibi tarafından geliştirilmektedir.' metadata={'source': 'example_data.csv', 'row': 102}\n"
     ]
    }
   ],
   "source": [
    "docs = retriever.invoke(question)\n",
    "print(docs[0])"
   ]
  },
  {
   "cell_type": "code",
   "execution_count": 32,
   "id": "c58731ad-748a-4314-9033-5cda99de3725",
   "metadata": {},
   "outputs": [
    {
     "name": "stdout",
     "output_type": "stream",
     "text": [
      "Metubot projesi GDGC METU AI/ML Takımı Üreten Ekibi tarafından geliştirilmektedir.\n"
     ]
    }
   ],
   "source": [
    "start_time = datetime.now()\n",
    "\n",
    "result = llama_qa.invoke(question)\n",
    "print(result['result'])\n",
    "\n",
    "end_time = datetime.now()"
   ]
  },
  {
   "cell_type": "code",
   "execution_count": 33,
   "id": "74346073-57ec-4d9c-bddf-7fa81561dd4c",
   "metadata": {},
   "outputs": [
    {
     "name": "stdout",
     "output_type": "stream",
     "text": [
      "Geçen Süre: 0:00:00.795603\n"
     ]
    }
   ],
   "source": [
    "elapsed_time = end_time - start_time\n",
    "print(f\"Geçen Süre: {elapsed_time}\")"
   ]
  },
  {
   "cell_type": "markdown",
   "id": "70d2d459-102b-40ff-9bc7-1ac6af250c63",
   "metadata": {},
   "source": [
    "# Opus en-tr"
   ]
  },
  {
   "cell_type": "code",
   "execution_count": 34,
   "id": "61d4b162-0a5d-4489-a48b-04670005b7c3",
   "metadata": {},
   "outputs": [],
   "source": [
    "en_tr_pipe = pipeline(\"translation\", model=\"Helsinki-NLP/opus-mt-tc-big-en-tr\", device=\"cuda\")"
   ]
  },
  {
   "cell_type": "markdown",
   "id": "2a6b3067-88e4-43dd-aa78-2f1379b73a9d",
   "metadata": {},
   "source": [
    "# Defining the answering function"
   ]
  },
  {
   "cell_type": "code",
   "execution_count": 35,
   "id": "915adc87-aa94-4dad-9ac4-f939538bc4aa",
   "metadata": {},
   "outputs": [],
   "source": [
    "question = \"Answer in English based on the information given, act as a personal assistant. Metubot'u kim geliştiriyor\""
   ]
  },
  {
   "cell_type": "code",
   "execution_count": 36,
   "id": "42897b59-d6d5-4b05-a7ae-51e824ea8a20",
   "metadata": {},
   "outputs": [
    {
     "name": "stdout",
     "output_type": "stream",
     "text": [
      "MetuBot'u kimin geliştirdiğinden emin değilim. Doğru bir cevap vermek için yeterli bilgiye sahip değilim. Daha fazla bağlam sağlayabilir veya ne aradığınızı açıklığa kavuşturabilirseniz, daha fazla denemekten ve yardımcı olmaktan mutluluk duyarım!\n"
     ]
    }
   ],
   "source": [
    "start_time = datetime.now()\n",
    "\n",
    "result = llama_qa.invoke(question)\n",
    "\n",
    "mid_time = datetime.now()\n",
    "\n",
    "result_tr = en_tr_pipe(result[\"result\"])\n",
    "\n",
    "end_time = datetime.now()\n",
    "\n",
    "print(result_tr[0][\"translation_text\"])"
   ]
  },
  {
   "cell_type": "code",
   "execution_count": 37,
   "id": "ebdb957d-26f9-48cf-b616-2d6cf92a9954",
   "metadata": {},
   "outputs": [
    {
     "name": "stdout",
     "output_type": "stream",
     "text": [
      "Llama answer time: 0:00:01.197517\n",
      "Opus answer_time: 0:00:00.201186\n",
      "Full time: 0:00:01.398703\n"
     ]
    }
   ],
   "source": [
    "llama_time = mid_time - start_time\n",
    "translation_time = end_time - mid_time\n",
    "top_time = end_time - start_time\n",
    "print(f\"Llama answer time: {llama_time}\\nOpus answer_time: {translation_time}\\nFull time: {top_time}\")"
   ]
  },
  {
   "cell_type": "markdown",
   "id": "e5762b9f-9065-46ad-8e64-accdc81c3386",
   "metadata": {},
   "source": [
    "# Conclusion"
   ]
  },
  {
   "cell_type": "markdown",
   "id": "38db13f0-f052-4548-97a6-751c3e22198c",
   "metadata": {},
   "source": [
    "Llama, when coupled with a translator, produced grammatically accurate and contextually appropriate text. However, Llama struggled to fully understand the contextual implications of the information retrieved."
   ]
  }
 ],
 "metadata": {
  "kernelspec": {
   "display_name": "metubot",
   "language": "python",
   "name": "metubot"
  },
  "language_info": {
   "codemirror_mode": {
    "name": "ipython",
    "version": 3
   },
   "file_extension": ".py",
   "mimetype": "text/x-python",
   "name": "python",
   "nbconvert_exporter": "python",
   "pygments_lexer": "ipython3",
   "version": "3.10.12"
  }
 },
 "nbformat": 4,
 "nbformat_minor": 5
}
