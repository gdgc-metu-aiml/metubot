{
 "cells": [
  {
   "cell_type": "markdown",
   "id": "3bbe1e04-dda6-4d06-bc19-d6f698e0e60f",
   "metadata": {},
   "source": [
    "# Importing libraries"
   ]
  },
  {
   "cell_type": "code",
   "execution_count": 1,
   "id": "42d67899-cadc-48c8-82dc-d6b6b46b2dc3",
   "metadata": {},
   "outputs": [],
   "source": [
    "import numpy as np\n",
    "import pandas as pd\n",
    "import torch\n",
    "from datetime import datetime"
   ]
  },
  {
   "cell_type": "code",
   "execution_count": 2,
   "id": "e53eed38-679c-44c2-9e69-4fe12bdf04c7",
   "metadata": {},
   "outputs": [],
   "source": [
    "from langchain.text_splitter import RecursiveCharacterTextSplitter\n",
    "from langchain.document_loaders import CSVLoader\n",
    "from langchain.embeddings import HuggingFaceEmbeddings\n",
    "from langchain.vectorstores import FAISS\n",
    "from transformers import AutoTokenizer, pipeline\n",
    "from transformers import BertForQuestionAnswering, BertTokenizer\n",
    "from transformers import AutoModelForCausalLM, AutoModel\n",
    "from langchain.chains import RetrievalQA\n",
    "from langchain_ollama import ChatOllama"
   ]
  },
  {
   "cell_type": "markdown",
   "id": "5b797a3f-a53b-4166-9910-3883872b1852",
   "metadata": {},
   "source": [
    "# Getting from csv and splitting"
   ]
  },
  {
   "cell_type": "code",
   "execution_count": 3,
   "id": "01c0da4e-033b-4d8f-b39c-0f4c2bfa91a4",
   "metadata": {
    "scrolled": true
   },
   "outputs": [],
   "source": [
    "csv_file_path = 'example_data.csv'\n",
    "\n",
    "loader = CSVLoader(file_path=csv_file_path)\n",
    "\n",
    "data = loader.load()"
   ]
  },
  {
   "cell_type": "code",
   "execution_count": 4,
   "id": "15f2e4ea-e172-41bb-92d7-537e0eb3c8b1",
   "metadata": {},
   "outputs": [],
   "source": [
    "text_splitter = RecursiveCharacterTextSplitter(\n",
    "    chunk_size=1000,\n",
    "    chunk_overlap=150\n",
    ")\n",
    "\n",
    "docs = text_splitter.split_documents(data)"
   ]
  },
  {
   "cell_type": "code",
   "execution_count": 5,
   "id": "d6b6a5bc-f510-48d6-9106-266cfeddf162",
   "metadata": {},
   "outputs": [
    {
     "data": {
      "text/plain": [
       "Document(metadata={'source': 'example_data.csv', 'row': 0}, page_content=': \\ncategory: Eğitim 101\\nmain_title: Ders Seçimi\\nsub_title: main text\\ncontent: ODTÜ 2022-2023 yılı sonbahar dönemi için etkileşimli kayıt sistemi 28 Eylül 2022 tarihinde, saat 09.00’da öğrencilere açılacak. Birer saat arayla, başta 4. sınıflar olmak üzere tüm sınıflara kademeli olarak açılmaya devam edecek. Etkileşimli kayıtlar 30 Eylül, saat 17.00’de sona erecektir. Danışman onayları ise 28 Eylül’de başlayıp 30 Eylül saat 23.59’da sona erecektir. Not: Kayıt programına kampüs dışından erişimlerde VPN bağlantısı şartı bulunmamaktadır.')"
      ]
     },
     "execution_count": 5,
     "metadata": {},
     "output_type": "execute_result"
    }
   ],
   "source": [
    "docs[0]"
   ]
  },
  {
   "cell_type": "markdown",
   "id": "c1549688-be68-4257-9b64-3111b52868ae",
   "metadata": {},
   "source": [
    "# Getting an pre-trained embedding model"
   ]
  },
  {
   "cell_type": "code",
   "execution_count": 6,
   "id": "0cd80930-3380-4fa9-885d-2a3460a3a9de",
   "metadata": {},
   "outputs": [
    {
     "name": "stderr",
     "output_type": "stream",
     "text": [
      "/tmp/ipykernel_120188/1696297337.py:5: LangChainDeprecationWarning: The class `HuggingFaceEmbeddings` was deprecated in LangChain 0.2.2 and will be removed in 1.0. An updated version of the class exists in the :class:`~langchain-huggingface package and should be used instead. To use it run `pip install -U :class:`~langchain-huggingface` and import as `from :class:`~langchain_huggingface import HuggingFaceEmbeddings``.\n",
      "  embeddings = HuggingFaceEmbeddings(\n"
     ]
    }
   ],
   "source": [
    "model_path = \"sentence-transformers/paraphrase-multilingual-MiniLM-L12-v2\"\n",
    "model_kwargs = {'device': 'cuda'}\n",
    "encode_kwargs = {'normalize_embeddings': False}\n",
    "\n",
    "embeddings = HuggingFaceEmbeddings(\n",
    "    model_name = model_path,      \n",
    "    model_kwargs = model_kwargs,  \n",
    "    encode_kwargs = encode_kwargs \n",
    ")"
   ]
  },
  {
   "cell_type": "code",
   "execution_count": 7,
   "id": "a274424b-23c3-4c08-98d9-220d9000223a",
   "metadata": {},
   "outputs": [
    {
     "data": {
      "text/plain": [
       "384"
      ]
     },
     "execution_count": 7,
     "metadata": {},
     "output_type": "execute_result"
    }
   ],
   "source": [
    "text = 'Üreten ekibe hoş geldin'\n",
    "query_result = embeddings.embed_query(text)\n",
    "len(query_result)"
   ]
  },
  {
   "cell_type": "markdown",
   "id": "89bfb86a-370b-42f3-be3f-3d4fd5ab8183",
   "metadata": {},
   "source": [
    "# Creating a vector database"
   ]
  },
  {
   "cell_type": "code",
   "execution_count": 8,
   "id": "0fbc75cc-ee4e-417f-abb5-4a26262bfd75",
   "metadata": {},
   "outputs": [],
   "source": [
    "vector_db = FAISS.from_documents(docs, embeddings)"
   ]
  },
  {
   "cell_type": "code",
   "execution_count": 9,
   "id": "e78c612e-5044-4b0c-ae06-adb772a8a009",
   "metadata": {},
   "outputs": [
    {
     "name": "stdout",
     "output_type": "stream",
     "text": [
      "page_content=': \n",
      "category: Deneme\n",
      "main_title: Topluluklar\n",
      "sub_title: Topluluklar\n",
      "content: metubot projesi GDGC METU AI/ML Takımı Üreten Ekibi tarafından geliştirilmektedir.' metadata={'source': 'example_data.csv', 'row': 102}\n"
     ]
    }
   ],
   "source": [
    "question = \"metubot kim tarafından geliştirilmektedir\"\n",
    "searchDocs = vector_db.similarity_search(question)\n",
    "print(searchDocs[0])"
   ]
  },
  {
   "cell_type": "markdown",
   "id": "ee7ac23e-d69e-4234-ae9b-9cb786ddeda5",
   "metadata": {},
   "source": [
    "# Creating a retriever"
   ]
  },
  {
   "cell_type": "code",
   "execution_count": 10,
   "id": "882d8352-2fd4-43cf-b171-2af71a4d56b5",
   "metadata": {},
   "outputs": [
    {
     "name": "stdout",
     "output_type": "stream",
     "text": [
      "page_content=': \n",
      "category: Deneme\n",
      "main_title: Topluluklar\n",
      "sub_title: Topluluklar\n",
      "content: metubot projesi GDGC METU AI/ML Takımı Üreten Ekibi tarafından geliştirilmektedir.' metadata={'source': 'example_data.csv', 'row': 102}\n"
     ]
    }
   ],
   "source": [
    "retriever = vector_db.as_retriever()\n",
    "\n",
    "docs = retriever.invoke(\"metubot kim tarafından geliştirilmektedir\")\n",
    "print(docs[0])"
   ]
  },
  {
   "cell_type": "markdown",
   "id": "84a557db-e403-40d2-94a0-a2ae41633037",
   "metadata": {},
   "source": [
    "# Getting a generative model and creating a retrieval qa chain"
   ]
  },
  {
   "cell_type": "code",
   "execution_count": 11,
   "id": "dd642d94-cd1d-4a95-a64e-5b3fcb927289",
   "metadata": {},
   "outputs": [],
   "source": [
    "llm = ChatOllama(\n",
    "    model=\"llama3.2:3b\",\n",
    "    temperature=0.1,\n",
    ")"
   ]
  },
  {
   "cell_type": "code",
   "execution_count": 12,
   "id": "887de0b1-1287-406f-aa45-6cb12c054673",
   "metadata": {
    "scrolled": true
   },
   "outputs": [],
   "source": [
    "qa = RetrievalQA.from_chain_type(\n",
    "    llm=llm,\n",
    "    chain_type=\"stuff\",\n",
    "    retriever=retriever\n",
    ")"
   ]
  },
  {
   "cell_type": "markdown",
   "id": "7be2cfc2-aeb6-4059-b9ec-fc0a98b85035",
   "metadata": {},
   "source": [
    "# Testing the RAG model"
   ]
  },
  {
   "cell_type": "code",
   "execution_count": 13,
   "id": "1c329cc3-7585-4f39-9265-04bc7013e320",
   "metadata": {},
   "outputs": [],
   "source": [
    "question = \"metubot kim tarafından geliştirilmektedir\""
   ]
  },
  {
   "cell_type": "code",
   "execution_count": 14,
   "id": "50ee13af-38e5-4d23-b1a2-20c8ce1ac88e",
   "metadata": {},
   "outputs": [
    {
     "name": "stdout",
     "output_type": "stream",
     "text": [
      "page_content=': \n",
      "category: Deneme\n",
      "main_title: Topluluklar\n",
      "sub_title: Topluluklar\n",
      "content: metubot projesi GDGC METU AI/ML Takımı Üreten Ekibi tarafından geliştirilmektedir.' metadata={'source': 'example_data.csv', 'row': 102}\n"
     ]
    }
   ],
   "source": [
    "docs = retriever.invoke(question)\n",
    "print(docs[0])"
   ]
  },
  {
   "cell_type": "code",
   "execution_count": 15,
   "id": "c58731ad-748a-4314-9033-5cda99de3725",
   "metadata": {},
   "outputs": [
    {
     "name": "stdout",
     "output_type": "stream",
     "text": [
      "Metubot projesi GDGC METU AI/ML Takımı Üreten Ekibi tarafından geliştirilmektedir.\n"
     ]
    }
   ],
   "source": [
    "start_time = datetime.now()\n",
    "\n",
    "result = qa.invoke(question)\n",
    "print(result['result'])\n",
    "\n",
    "end_time = datetime.now()"
   ]
  },
  {
   "cell_type": "code",
   "execution_count": 16,
   "id": "74346073-57ec-4d9c-bddf-7fa81561dd4c",
   "metadata": {},
   "outputs": [
    {
     "name": "stdout",
     "output_type": "stream",
     "text": [
      "Geçen Süre: 0:00:00.502124\n"
     ]
    }
   ],
   "source": [
    "elapsed_time = end_time - start_time\n",
    "print(f\"Geçen Süre: {elapsed_time}\")"
   ]
  },
  {
   "cell_type": "markdown",
   "id": "e026903b-54bf-4024-91b9-7884d39ce969",
   "metadata": {},
   "source": [
    "# Conclusion"
   ]
  },
  {
   "cell_type": "markdown",
   "id": "e1bac41a-e1f4-4c7c-8596-a7a741ed6463",
   "metadata": {},
   "source": [
    "**Models used:**\n",
    "\n",
    "Pre-trained embedding model:\n",
    "* sentence-transformers/paraphrase-multilingual-MiniLM-L12-v2\n",
    "* https://huggingface.co/sentence-transformers/paraphrase-multilingual-MiniLM-L12-v2\n",
    "\n",
    "Generative model:\n",
    "* ollama llama3.2 3b"
   ]
  }
 ],
 "metadata": {
  "kernelspec": {
   "display_name": "metubot",
   "language": "python",
   "name": "metubot"
  },
  "language_info": {
   "codemirror_mode": {
    "name": "ipython",
    "version": 3
   },
   "file_extension": ".py",
   "mimetype": "text/x-python",
   "name": "python",
   "nbconvert_exporter": "python",
   "pygments_lexer": "ipython3",
   "version": "3.10.12"
  }
 },
 "nbformat": 4,
 "nbformat_minor": 5
}
